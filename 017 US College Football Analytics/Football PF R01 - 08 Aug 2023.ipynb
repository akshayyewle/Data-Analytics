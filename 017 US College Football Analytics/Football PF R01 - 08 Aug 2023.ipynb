{
 "cells": [
  {
   "cell_type": "markdown",
   "metadata": {},
   "source": [
    "# **Set Up**\n",
    "\n",
    "* https://towardsdatascience.com/college-football-conference-realignment-exploratory-data-analysis-in-python-6f4a74037572"
   ]
  },
  {
   "cell_type": "code",
   "execution_count": 5,
   "metadata": {},
   "outputs": [],
   "source": [
    "import requests\n",
    "from bs4 import BeautifulSoup\n",
    "import pandas as pd\n",
    "import numpy as np\n",
    "from geopy.geocoders import Nominatim"
   ]
  },
  {
   "cell_type": "markdown",
   "metadata": {},
   "source": [
    "# **Get Wikipedia Data**"
   ]
  },
  {
   "cell_type": "code",
   "execution_count": 6,
   "metadata": {},
   "outputs": [],
   "source": [
    "# Get the HTML content from the wikipedia link\n",
    "url = \"https://en.wikipedia.org/wiki/List_of_NCAA_Division_I_FBS_football_programs\"\n",
    "response = requests.get(url)\n",
    "html = response.text\n",
    "\n",
    "# Parse the HTML content using BeautifulSoup\n",
    "soup = BeautifulSoup(html, \"html.parser\")\n",
    "\n",
    "# Find the table element that contains the data\n",
    "table = soup.find(\"table\", {\"class\": \"wikitable sortable\"})\n",
    "\n",
    "# Extract the table headers and data rows\n",
    "headers = [th.text.strip() for th in table.find_all(\"th\")]\n",
    "rows = [[td.text.strip() for td in tr.find_all(\"td\")] for tr in table.find_all(\"tr\")[1:]]\n",
    "\n",
    "# Create a pandas dataframe from the table data\n",
    "df = pd.DataFrame(rows, columns=headers)\n",
    "\n",
    "# Save the dataframe as a CSV file\n",
    "df.to_csv(\"FBS_Football_Cities.csv\", index=False)"
   ]
  },
  {
   "cell_type": "markdown",
   "metadata": {},
   "source": [
    "# **Import Data**"
   ]
  },
  {
   "cell_type": "code",
   "execution_count": 47,
   "metadata": {},
   "outputs": [
    {
     "data": {
      "text/plain": [
       "(133, 9)"
      ]
     },
     "execution_count": 47,
     "metadata": {},
     "output_type": "execute_result"
    }
   ],
   "source": [
    "# Import dependencies\n",
    "\n",
    "# Read csv data with column 'City' and column 'State'\n",
    "df = pd.read_csv('FBS_Football_Cities.csv', encoding = 'unicode_escape')\n",
    "df.shape"
   ]
  },
  {
   "cell_type": "code",
   "execution_count": 48,
   "metadata": {},
   "outputs": [
    {
     "data": {
      "text/html": [
       "<div>\n",
       "<style scoped>\n",
       "    .dataframe tbody tr th:only-of-type {\n",
       "        vertical-align: middle;\n",
       "    }\n",
       "\n",
       "    .dataframe tbody tr th {\n",
       "        vertical-align: top;\n",
       "    }\n",
       "\n",
       "    .dataframe thead th {\n",
       "        text-align: right;\n",
       "    }\n",
       "</style>\n",
       "<table border=\"1\" class=\"dataframe\">\n",
       "  <thead>\n",
       "    <tr style=\"text-align: right;\">\n",
       "      <th></th>\n",
       "      <th>Team</th>\n",
       "      <th>Nickname</th>\n",
       "      <th>City</th>\n",
       "      <th>State[2]</th>\n",
       "      <th>Enrollment</th>\n",
       "      <th>Currentconference</th>\n",
       "      <th>Formerconferences</th>\n",
       "      <th>Firstplayed</th>\n",
       "      <th>JoinedFBS</th>\n",
       "    </tr>\n",
       "  </thead>\n",
       "  <tbody>\n",
       "    <tr>\n",
       "      <th>0</th>\n",
       "      <td>Air Force</td>\n",
       "      <td>Falcons</td>\n",
       "      <td>USAF Academy/Colorado Springs[n 1]</td>\n",
       "      <td>Colorado</td>\n",
       "      <td>4,181</td>\n",
       "      <td>Mountain West</td>\n",
       "      <td>WAC</td>\n",
       "      <td>1955</td>\n",
       "      <td>NaN</td>\n",
       "    </tr>\n",
       "    <tr>\n",
       "      <th>1</th>\n",
       "      <td>Akron</td>\n",
       "      <td>Zips</td>\n",
       "      <td>Akron</td>\n",
       "      <td>Ohio</td>\n",
       "      <td>14,516</td>\n",
       "      <td>MAC</td>\n",
       "      <td>OAC, MCC, OVC</td>\n",
       "      <td>1891</td>\n",
       "      <td>1987</td>\n",
       "    </tr>\n",
       "    <tr>\n",
       "      <th>2</th>\n",
       "      <td>Alabama</td>\n",
       "      <td>Crimson Tide</td>\n",
       "      <td>Tuscaloosa</td>\n",
       "      <td>Alabama</td>\n",
       "      <td>38,316</td>\n",
       "      <td>SEC</td>\n",
       "      <td>SIAA, SoCon</td>\n",
       "      <td>1892</td>\n",
       "      <td>NaN</td>\n",
       "    </tr>\n",
       "    <tr>\n",
       "      <th>3</th>\n",
       "      <td>Appalachian State</td>\n",
       "      <td>Mountaineers</td>\n",
       "      <td>Boone</td>\n",
       "      <td>North Carolina</td>\n",
       "      <td>20,641</td>\n",
       "      <td>Sun Belt</td>\n",
       "      <td>NSC, SoCon</td>\n",
       "      <td>1928</td>\n",
       "      <td>2014[n 2]</td>\n",
       "    </tr>\n",
       "    <tr>\n",
       "      <th>4</th>\n",
       "      <td>Arizona</td>\n",
       "      <td>Wildcats</td>\n",
       "      <td>Tucson</td>\n",
       "      <td>Arizona</td>\n",
       "      <td>49,471</td>\n",
       "      <td>Pac-12</td>\n",
       "      <td>BIAA, WAC</td>\n",
       "      <td>1899</td>\n",
       "      <td>NaN</td>\n",
       "    </tr>\n",
       "    <tr>\n",
       "      <th>...</th>\n",
       "      <td>...</td>\n",
       "      <td>...</td>\n",
       "      <td>...</td>\n",
       "      <td>...</td>\n",
       "      <td>...</td>\n",
       "      <td>...</td>\n",
       "      <td>...</td>\n",
       "      <td>...</td>\n",
       "      <td>...</td>\n",
       "    </tr>\n",
       "    <tr>\n",
       "      <th>128</th>\n",
       "      <td>West Virginia</td>\n",
       "      <td>Mountaineers</td>\n",
       "      <td>Morgantown</td>\n",
       "      <td>West Virginia</td>\n",
       "      <td>25,474</td>\n",
       "      <td>Big 12</td>\n",
       "      <td>SoCon, WVIAC, Big East</td>\n",
       "      <td>1891</td>\n",
       "      <td>NaN</td>\n",
       "    </tr>\n",
       "    <tr>\n",
       "      <th>129</th>\n",
       "      <td>Western Kentucky</td>\n",
       "      <td>Hilltoppers</td>\n",
       "      <td>Bowling Green</td>\n",
       "      <td>Kentucky</td>\n",
       "      <td>16,750</td>\n",
       "      <td>C-USA</td>\n",
       "      <td>SIAA, KIAC, OVC, MVFC, Sun Belt</td>\n",
       "      <td>1913</td>\n",
       "      <td>2009</td>\n",
       "    </tr>\n",
       "    <tr>\n",
       "      <th>130</th>\n",
       "      <td>Western Michigan</td>\n",
       "      <td>Broncos</td>\n",
       "      <td>Kalamazoo</td>\n",
       "      <td>Michigan</td>\n",
       "      <td>19,038</td>\n",
       "      <td>MAC</td>\n",
       "      <td>MCC</td>\n",
       "      <td>1905</td>\n",
       "      <td>NaN</td>\n",
       "    </tr>\n",
       "    <tr>\n",
       "      <th>131</th>\n",
       "      <td>Wisconsin</td>\n",
       "      <td>Badgers</td>\n",
       "      <td>Madison</td>\n",
       "      <td>Wisconsin</td>\n",
       "      <td>47,932</td>\n",
       "      <td>Big Ten</td>\n",
       "      <td>None[n 8]</td>\n",
       "      <td>1889</td>\n",
       "      <td>NaN</td>\n",
       "    </tr>\n",
       "    <tr>\n",
       "      <th>132</th>\n",
       "      <td>Wyoming</td>\n",
       "      <td>Cowboys</td>\n",
       "      <td>Laramie</td>\n",
       "      <td>Wyoming</td>\n",
       "      <td>11,479</td>\n",
       "      <td>Mountain West</td>\n",
       "      <td>Colorado Football Association, RMAC, WAC</td>\n",
       "      <td>1893</td>\n",
       "      <td>NaN</td>\n",
       "    </tr>\n",
       "  </tbody>\n",
       "</table>\n",
       "<p>133 rows × 9 columns</p>\n",
       "</div>"
      ],
      "text/plain": [
       "                  Team      Nickname                                City  \\\n",
       "0            Air Force       Falcons  USAF Academy/Colorado Springs[n 1]   \n",
       "1                Akron          Zips                               Akron   \n",
       "2              Alabama  Crimson Tide                          Tuscaloosa   \n",
       "3    Appalachian State  Mountaineers                               Boone   \n",
       "4              Arizona      Wildcats                              Tucson   \n",
       "..                 ...           ...                                 ...   \n",
       "128      West Virginia  Mountaineers                          Morgantown   \n",
       "129   Western Kentucky   Hilltoppers                       Bowling Green   \n",
       "130   Western Michigan       Broncos                           Kalamazoo   \n",
       "131          Wisconsin       Badgers                             Madison   \n",
       "132            Wyoming       Cowboys                             Laramie   \n",
       "\n",
       "           State[2] Enrollment Currentconference  \\\n",
       "0          Colorado      4,181     Mountain West   \n",
       "1              Ohio     14,516               MAC   \n",
       "2           Alabama     38,316               SEC   \n",
       "3    North Carolina     20,641          Sun Belt   \n",
       "4           Arizona     49,471            Pac-12   \n",
       "..              ...        ...               ...   \n",
       "128   West Virginia     25,474            Big 12   \n",
       "129        Kentucky     16,750             C-USA   \n",
       "130        Michigan     19,038               MAC   \n",
       "131       Wisconsin     47,932           Big Ten   \n",
       "132         Wyoming     11,479     Mountain West   \n",
       "\n",
       "                            Formerconferences Firstplayed  JoinedFBS  \n",
       "0                                         WAC        1955        NaN  \n",
       "1                               OAC, MCC, OVC        1891       1987  \n",
       "2                                 SIAA, SoCon        1892        NaN  \n",
       "3                                  NSC, SoCon        1928  2014[n 2]  \n",
       "4                                   BIAA, WAC        1899        NaN  \n",
       "..                                        ...         ...        ...  \n",
       "128                    SoCon, WVIAC, Big East        1891        NaN  \n",
       "129           SIAA, KIAC, OVC, MVFC, Sun Belt        1913       2009  \n",
       "130                                       MCC        1905        NaN  \n",
       "131                                 None[n 8]        1889        NaN  \n",
       "132  Colorado Football Association, RMAC, WAC        1893        NaN  \n",
       "\n",
       "[133 rows x 9 columns]"
      ]
     },
     "execution_count": 48,
     "metadata": {},
     "output_type": "execute_result"
    }
   ],
   "source": [
    "df"
   ]
  },
  {
   "cell_type": "code",
   "execution_count": 49,
   "metadata": {},
   "outputs": [
    {
     "data": {
      "text/plain": [
       "Index(['Team', 'Nickname', 'City', 'State', 'Enrollment', 'Currentconference',\n",
       "       'Formerconferences', 'Firstplayed', 'JoinedFBS'],\n",
       "      dtype='object')"
      ]
     },
     "execution_count": 49,
     "metadata": {},
     "output_type": "execute_result"
    }
   ],
   "source": [
    "df = df.rename(columns={'State[2]':'State'})\n",
    "df.columns"
   ]
  },
  {
   "cell_type": "code",
   "execution_count": 50,
   "metadata": {},
   "outputs": [
    {
     "name": "stdout",
     "output_type": "stream",
     "text": [
      "<class 'pandas.core.frame.DataFrame'>\n",
      "RangeIndex: 133 entries, 0 to 132\n",
      "Data columns (total 9 columns):\n",
      " #   Column             Non-Null Count  Dtype \n",
      "---  ------             --------------  ----- \n",
      " 0   Team               133 non-null    object\n",
      " 1   Nickname           133 non-null    object\n",
      " 2   City               133 non-null    object\n",
      " 3   State              133 non-null    object\n",
      " 4   Enrollment         133 non-null    object\n",
      " 5   Currentconference  133 non-null    object\n",
      " 6   Formerconferences  133 non-null    object\n",
      " 7   Firstplayed        133 non-null    object\n",
      " 8   JoinedFBS          34 non-null     object\n",
      "dtypes: object(9)\n",
      "memory usage: 9.5+ KB\n"
     ]
    }
   ],
   "source": [
    "df.info()"
   ]
  },
  {
   "cell_type": "code",
   "execution_count": 51,
   "metadata": {},
   "outputs": [
    {
     "data": {
      "text/html": [
       "<div>\n",
       "<style scoped>\n",
       "    .dataframe tbody tr th:only-of-type {\n",
       "        vertical-align: middle;\n",
       "    }\n",
       "\n",
       "    .dataframe tbody tr th {\n",
       "        vertical-align: top;\n",
       "    }\n",
       "\n",
       "    .dataframe thead th {\n",
       "        text-align: right;\n",
       "    }\n",
       "</style>\n",
       "<table border=\"1\" class=\"dataframe\">\n",
       "  <thead>\n",
       "    <tr style=\"text-align: right;\">\n",
       "      <th></th>\n",
       "      <th>Team</th>\n",
       "      <th>Nickname</th>\n",
       "      <th>City</th>\n",
       "      <th>State</th>\n",
       "      <th>Enrollment</th>\n",
       "      <th>Currentconference</th>\n",
       "      <th>Formerconferences</th>\n",
       "      <th>Firstplayed</th>\n",
       "      <th>JoinedFBS</th>\n",
       "    </tr>\n",
       "  </thead>\n",
       "  <tbody>\n",
       "    <tr>\n",
       "      <th>count</th>\n",
       "      <td>133</td>\n",
       "      <td>133</td>\n",
       "      <td>133</td>\n",
       "      <td>133</td>\n",
       "      <td>133</td>\n",
       "      <td>133</td>\n",
       "      <td>133</td>\n",
       "      <td>133</td>\n",
       "      <td>34</td>\n",
       "    </tr>\n",
       "    <tr>\n",
       "      <th>unique</th>\n",
       "      <td>133</td>\n",
       "      <td>100</td>\n",
       "      <td>126</td>\n",
       "      <td>41</td>\n",
       "      <td>133</td>\n",
       "      <td>17</td>\n",
       "      <td>101</td>\n",
       "      <td>57</td>\n",
       "      <td>24</td>\n",
       "    </tr>\n",
       "    <tr>\n",
       "      <th>top</th>\n",
       "      <td>Air Force</td>\n",
       "      <td>Tigers</td>\n",
       "      <td>Athens</td>\n",
       "      <td>Texas</td>\n",
       "      <td>4,181</td>\n",
       "      <td>ACC</td>\n",
       "      <td>SIAA, SoCon</td>\n",
       "      <td>1892</td>\n",
       "      <td>2012</td>\n",
       "    </tr>\n",
       "    <tr>\n",
       "      <th>freq</th>\n",
       "      <td>1</td>\n",
       "      <td>5</td>\n",
       "      <td>2</td>\n",
       "      <td>13</td>\n",
       "      <td>1</td>\n",
       "      <td>14</td>\n",
       "      <td>10</td>\n",
       "      <td>12</td>\n",
       "      <td>4</td>\n",
       "    </tr>\n",
       "  </tbody>\n",
       "</table>\n",
       "</div>"
      ],
      "text/plain": [
       "             Team Nickname    City  State Enrollment Currentconference  \\\n",
       "count         133      133     133    133        133               133   \n",
       "unique        133      100     126     41        133                17   \n",
       "top     Air Force   Tigers  Athens  Texas      4,181               ACC   \n",
       "freq            1        5       2     13          1                14   \n",
       "\n",
       "       Formerconferences Firstplayed JoinedFBS  \n",
       "count                133         133        34  \n",
       "unique               101          57        24  \n",
       "top          SIAA, SoCon        1892      2012  \n",
       "freq                  10          12         4  "
      ]
     },
     "execution_count": 51,
     "metadata": {},
     "output_type": "execute_result"
    }
   ],
   "source": [
    "df.describe()"
   ]
  },
  {
   "cell_type": "code",
   "execution_count": 53,
   "metadata": {},
   "outputs": [
    {
     "data": {
      "text/plain": [
       "126"
      ]
     },
     "execution_count": 53,
     "metadata": {},
     "output_type": "execute_result"
    }
   ],
   "source": [
    "len(df['City'].unique())"
   ]
  },
  {
   "cell_type": "markdown",
   "metadata": {},
   "source": [
    "# **Get Coordinates Of Cities**"
   ]
  },
  {
   "cell_type": "code",
   "execution_count": null,
   "metadata": {},
   "outputs": [],
   "source": [
    "for i in df.index:\n",
    "\n",
    "    City = df['City'][i]\n",
    "    State = df['State'][i]\n",
    "\n",
    "    City_Name = str(City)"
   ]
  },
  {
   "cell_type": "code",
   "execution_count": 46,
   "metadata": {},
   "outputs": [
    {
     "name": "stdout",
     "output_type": "stream",
     "text": [
      "USAF Academy/Colorado Springs[n 1], Colorado\n",
      "0\n"
     ]
    },
    {
     "ename": "AttributeError",
     "evalue": "'NoneType' object has no attribute 'latitude'",
     "output_type": "error",
     "traceback": [
      "\u001b[0;31m---------------------------------------------------------------------------\u001b[0m",
      "\u001b[0;31mAttributeError\u001b[0m                            Traceback (most recent call last)",
      "Cell \u001b[0;32mIn[46], line 23\u001b[0m\n\u001b[1;32m     20\u001b[0m getLoc \u001b[39m=\u001b[39m loc\u001b[39m.\u001b[39mgeocode(city_name)\n\u001b[1;32m     22\u001b[0m \u001b[39m# add the latitude and longitude to their respective lists\u001b[39;00m\n\u001b[0;32m---> 23\u001b[0m lat_list\u001b[39m.\u001b[39mappend(getLoc\u001b[39m.\u001b[39;49mlatitude)\n\u001b[1;32m     24\u001b[0m long_list\u001b[39m.\u001b[39mappend(getLoc\u001b[39m.\u001b[39mlongitude)\n\u001b[1;32m     26\u001b[0m index \u001b[39m=\u001b[39m index \u001b[39m+\u001b[39m \u001b[39m1\u001b[39m\n",
      "\u001b[0;31mAttributeError\u001b[0m: 'NoneType' object has no attribute 'latitude'"
     ]
    }
   ],
   "source": [
    "# for each city in the dataframe, get the latitude and longitude and # add them to the lists\n",
    "index = 0\n",
    "\n",
    "for i in city_list_df['City']:\n",
    "    city_name = str(city)+', '+str(city_list_df['State'][index])\n",
    "    \n",
    "    # Two cities needed some manual cleaning\n",
    "    if index == 39:\n",
    "        city_name = 'Urbana, Illinois'\n",
    "    elif index == 92:\n",
    "        city_name = 'San Jose, California'\n",
    "    \n",
    "    print(city_name)\n",
    "    print(index)\n",
    "    \n",
    "    # calling the Nominatim tool\n",
    "    loc = Nominatim(user_agent=\"GetLoc\")\n",
    " \n",
    "    # entering the location name\n",
    "    getLoc = loc.geocode(city_name)\n",
    "    \n",
    "    # add the latitude and longitude to their respective lists\n",
    "    lat_list.append(getLoc.latitude)\n",
    "    long_list.append(getLoc.longitude)\n",
    "    \n",
    "    index = index + 1"
   ]
  }
 ],
 "metadata": {
  "kernelspec": {
   "display_name": "Python 3",
   "language": "python",
   "name": "python3"
  },
  "language_info": {
   "codemirror_mode": {
    "name": "ipython",
    "version": 3
   },
   "file_extension": ".py",
   "mimetype": "text/x-python",
   "name": "python",
   "nbconvert_exporter": "python",
   "pygments_lexer": "ipython3",
   "version": "3.11.4"
  },
  "orig_nbformat": 4
 },
 "nbformat": 4,
 "nbformat_minor": 2
}
